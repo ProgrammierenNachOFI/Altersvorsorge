{
 "cells": [
  {
   "cell_type": "markdown",
   "metadata": {},
   "source": [
    "<a target=\"_blank\" href=\"https://colab.research.google.com/github/ProgrammierenNachOFI/Altersvorsorge/blob/main/docs/ahv_tutorial.ipynb\">\n",
    "  <img src=\"https://colab.research.google.com/assets/colab-badge.svg\" alt=\"Open In Colab\"/>\n",
    "</a>"
   ]
  },
  {
   "cell_type": "markdown",
   "metadata": {},
   "source": [
    "# Die AHV und die demographische Entwicklung"
   ]
  },
  {
   "cell_type": "markdown",
   "metadata": {},
   "source": [
    "Im Zusammenhang mit Revisionsprojekten der AHV wird oft mit der\n",
    "demographischen Entwicklung argumentiert. In diesem Zusammenhang ist ein\n",
    "beliebtes Instrument zur Darstellung der demographischen Situation die\n",
    "Alters- bzw. Bevölkerungspyramide.\n",
    "\n",
    "In diesem Notebook soll gezeigt werden, wie eine solche Alterspyramide\n",
    "selber erstellt werden kann."
   ]
  },
  {
   "cell_type": "markdown",
   "metadata": {},
   "source": [
    "## Daten"
   ]
  },
  {
   "cell_type": "markdown",
   "metadata": {},
   "source": [
    "Um eine Alterspyramide plotten zu können, braucht es in erster Linie\n",
    "Daten.  \n",
    "In der Schweiz werden diese durch das \n",
    "[Bundesamt für Statistik](https://www.bfs.admin.ch/bfs/de/home.html)\n",
    "erhoben und zur Verfügung gestellt."
   ]
  },
  {
   "attachments": {
    "image.png": {
     "image/png": "[encoded data removed]"
    }
   },
   "cell_type": "markdown",
   "metadata": {},
   "source": [
    "Die konkreten Daten, welche für eine Alterspyramide erforderlich sind,\n",
    "finden sich unter dem Thema *Bevölkerung*. Dort werden Daten zur\n",
    "Altersverteilung unter dem Untertitel *Stand und Entwicklung* zur\n",
    "Verfügung gestellt.\n",
    "\n",
    "Am unteren Ende der Themenseite finden sich Reiter zu weiterführenden\n",
    "Informationen.\n",
    "\n",
    "![Reiter](attachment:image.png)\n",
    "\n",
    "Als Datenquelle findet man unter dem Reiter *Daten* einen Datensatz zur\n",
    "ständigen Wohnbevölkerung nach Geschlecht und Alter von 1860 bis 2022.\n",
    "Unter dem\n",
    "[Link\n",
    "STAT-TAB](https://www.pxweb.bfs.admin.ch/pxweb/de/px-x-0102030000_101/px-x-0102030000_101/px-x-0102030000_101.px)\n",
    "hat man Zugriff auf die Daten mit verschiedenen Filtermöglichkeiten. Die\n",
    "gefilterten Daten können dann in verschiedenen Formaten heruntergeladen\n",
    "werden. Für die Weiterverarbeitung der Daten mit Python eignet sich der Download als `.csv`\n",
    "Datei."
   ]
  },
  {
   "cell_type": "markdown",
   "metadata": {},
   "source": [
    "## Python Libraries für die Datenvisualisierung"
   ]
  },
  {
   "cell_type": "markdown",
   "metadata": {},
   "source": [
    "Python stellt Libraries für die Aufbereitung und die eigentliche\n",
    "Visualisierung von Daten zur Verfügung."
   ]
  },
  {
   "cell_type": "markdown",
   "metadata": {},
   "source": [
    "### Datenaufbereitung"
   ]
  },
  {
   "cell_type": "markdown",
   "metadata": {},
   "source": [
    "Zur Aufbereitung der Daten, die man visualisieren will, wird die \n",
    "[pandas Library](https://pandas.pydata.org/) \n",
    "verwendet. In den Worten der Entwickler ist pandas ein schnelles,\n",
    "mächtiges, flexibles und einfach zu verwendendes Open Source Werkzeug\n",
    "zur Datenanalyse und -bearbeitung, welches auf Python aufbaut."
   ]
  },
  {
   "cell_type": "markdown",
   "metadata": {},
   "source": [
    "### Datenvisualisierung"
   ]
  },
  {
   "cell_type": "markdown",
   "metadata": {},
   "source": [
    "Für die eigentliche Visualisierung der Daten wird die\n",
    "[Matplotlib Library](https://matplotlib.org/)\n",
    "verwendet. Die Selbstdeklaration der Entwickler lautet selbstbewusst:\n",
    "\n",
    ">Matplotlib ist eine umfassende Bibliothek zur Erstellung statischer,\n",
    ">animierter und interaktiver Visualisierungen in Python. Matplotlib\n",
    ">macht einfache Dinge einfach und schwierige Dinge möglich. "
   ]
  },
  {
   "cell_type": "markdown",
   "metadata": {},
   "source": [
    "### Import der erforderlichen Libraries\n",
    "\n",
    "In der folgenden Zelle wird pandas komplett und von Matplotlib einzelne \n",
    "(erforderliche) Module importiert."
   ]
  },
  {
   "cell_type": "code",
   "execution_count": null,
   "metadata": {},
   "outputs": [],
   "source": [
    "import pandas as pd\n",
    "import matplotlib.pyplot as plt\n",
    "import matplotlib.transforms as transforms\n",
    "import matplotlib.ticker as ticker"
   ]
  },
  {
   "cell_type": "markdown",
   "metadata": {},
   "source": [
    "Um die Auflösung der erzeugten Plots zu erhöhen, wird in der Nächsten\n",
    "Zelle die generelle Einstellung für die Auflösung angepasst."
   ]
  },
  {
   "cell_type": "code",
   "execution_count": null,
   "metadata": {},
   "outputs": [],
   "source": [
    "plt.rcParams['figure.dpi'] = 300"
   ]
  },
  {
   "cell_type": "markdown",
   "metadata": {},
   "source": [
    "## Import und Aufbereitung der Daten des Bundesamtes für Statistik (BFS)"
   ]
  },
  {
   "cell_type": "markdown",
   "metadata": {},
   "source": [
    "### Import der Daten in Google Colab"
   ]
  },
  {
   "cell_type": "markdown",
   "metadata": {},
   "source": [
    "Damit der Import der Bevölkerungsdaten auf Google Colab (oder einer\n",
    "anderen online Plattform) funktioniert, werden die Daten aus dem GitHub\n",
    "Repository via url importiert. Dazu wird die url der Variablen `url`\n",
    "zugewiesen und diese dem Importstatement als Argument übergeben.  \n",
    "\n",
    "Die url lautet  \n",
    "https://raw.githubusercontent.com/ProgrammierenNachOFI/Altersvorsorge/main/data/240218_bevoelkerung_entwicklung.csv"
   ]
  },
  {
   "cell_type": "code",
   "execution_count": null,
   "metadata": {},
   "outputs": [],
   "source": [
    "url = https://raw.githubusercontent.com/ProgrammierenNachOFI/Altersvorsorge/main/data/240218_bevoelkerung_entwicklung.csv\n",
    "df = pd.read_csv(url, sep=\",\")  \n",
    "print(df.head(5))  "
   ]
  },
  {
   "cell_type": "markdown",
   "metadata": {},
   "source": [
    "### Import in einem lokal geklonten Repository"
   ]
  },
  {
   "cell_type": "markdown",
   "metadata": {},
   "source": [
    "Um die Dateien in einem lokal geklonten Repository importieren zu\n",
    "können, wird der relative Pfad zur Datei verwendet. Dieser lautet im\n",
    "vorliegenden Fall  \n",
    "`../data/240218_bevoelkerung_entwicklung.csv`"
   ]
  },
  {
   "cell_type": "code",
   "execution_count": null,
   "metadata": {},
   "outputs": [],
   "source": [
    "df=pd.read_csv('../data/240218_bevoelkerung_entwicklung.csv', \n",
    "               sep=\",\")\n",
    "print(df.head(5))"
   ]
  },
  {
   "cell_type": "markdown",
   "metadata": {},
   "source": [
    "pandas DataFrames ermöglichen es, Daten zu filtern. In der nächsten\n",
    "Zelle wird `df` nach Männern und Frauen aufgeteilt und je einem eigenen\n",
    "DataFrame zugewiesen. "
   ]
  },
  {
   "cell_type": "code",
   "execution_count": null,
   "metadata": {},
   "outputs": [],
   "source": [
    "df_maenner = df.loc[df['Geschlecht'] == 'Mann']\n",
    "df_frauen  = df.loc[df['Geschlecht'] == 'Frau']"
   ]
  },
  {
   "cell_type": "markdown",
   "metadata": {},
   "source": [
    "Damit die Zahl der Balken in der Alterspyramide nicht zu gross wird,\n",
    "werden im vorliegenden Beispiel die Alter in Tranchen von drei Jahren\n",
    "zusammengefasst. Für die Beschriftung der entsprechenden Achse im\n",
    "Diagramm wird dazu eine Liste `alter` mit den Altersgruppen erstellt. "
   ]
  },
  {
   "cell_type": "code",
   "execution_count": null,
   "metadata": {},
   "outputs": [],
   "source": [
    "alter = ['0 - 2', '3 - 5', '6 - 8', '9 - 11', '12 - 14', '15 - 17', \n",
    "         '18 - 20', '21 - 23', '24 - 26', '27 - 29', '30 - 32', \n",
    "         '33 - 35', '36 - 38', '39 - 41', '42 - 44', '45 - 47', \n",
    "         '48 - 50', '51 - 53', '54 - 56', '57 - 59', '60 - 62', \n",
    "         '63 - 65', '66 - 68', '69 - 71', '72 - 74', '75 - 77', \n",
    "         '78 - 80', '81 - 83', '84 - 86', '87 - 89', '90 - 92', \n",
    "         '93 - 95', '96 - 98', '99 +']"
   ]
  },
  {
   "cell_type": "markdown",
   "metadata": {},
   "source": [
    "Um die Altersgruppen zu addieren, wird die folgende Funktion verwendet:"
   ]
  },
  {
   "cell_type": "code",
   "execution_count": null,
   "metadata": {},
   "outputs": [],
   "source": [
    "def summe_in_dreierschritten(df, spalte):\n",
    "    summenliste = []\n",
    "    for i in range(1, len(df), 3):\n",
    "        summe = df[spalte][i:i+3].sum()\n",
    "        summenliste.append(summe)\n",
    "    return summenliste\n"
   ]
  },
  {
   "cell_type": "code",
   "execution_count": null,
   "metadata": {},
   "outputs": [],
   "source": [
    "maenner_gruppiert_1948 = summe_in_dreierschritten(df_maenner, '1948')\n",
    "maenner_gruppiert_1970 = summe_in_dreierschritten(df_maenner, '1970')\n",
    "maenner_gruppiert_2022 = summe_in_dreierschritten(df_maenner, '2022')\n",
    "frauen_gruppiert_1948  =  summe_in_dreierschritten(df_frauen, '1948')\n",
    "frauen_gruppiert_1970  =  summe_in_dreierschritten(df_frauen, '1970')\n",
    "frauen_gruppiert_2022  =  summe_in_dreierschritten(df_frauen, '2022')"
   ]
  },
  {
   "cell_type": "markdown",
   "metadata": {},
   "source": [
    "Die neu entstandenen Listen werden in der folgenden Zelle in einem\n",
    "DataFrame `gruppierte_daten` zusammengefasst. Dazu werden der Funktion\n",
    "`pd.DataFrame()` ein\n",
    "[Python Dictionary](https://realpython.com/python-dicts/#defining-a-dictionary)\n",
    "als Argument übergeben und der so erzeugte DataFrame wird der Variabeln\n",
    "`gruppierte_daten` zugewiesen."
   ]
  },
  {
   "cell_type": "code",
   "execution_count": null,
   "metadata": {},
   "outputs": [],
   "source": [
    "gruppierte_daten = pd.DataFrame({'Alter': alter, \n",
    "                                 'Maenner 1948': maenner_gruppiert_1948, \n",
    "                                 'Maenner 1970': maenner_gruppiert_1970, \n",
    "                                 'Maenner 2022': maenner_gruppiert_2022, \n",
    "                                 'Frauen 1948': frauen_gruppiert_1948, \n",
    "                                 'Frauen 1970': frauen_gruppiert_1970, \n",
    "                                 'Frauen 2022': frauen_gruppiert_2022})"
   ]
  },
  {
   "cell_type": "markdown",
   "metadata": {},
   "source": [
    "Damit die Daten gegebenenfalls mit andern Ländern verglichen werden\n",
    "könnten, werden die Altersverteilungen in Prozenten der entsprechenden\n",
    "Referenzjahre ausgedrückt."
   ]
  },
  {
   "cell_type": "code",
   "execution_count": null,
   "metadata": {},
   "outputs": [],
   "source": [
    "gruppierte_daten['m 1948 rel']  = gruppierte_daten['Maenner 1948'] / df['1948'][0] * -100\n",
    "gruppierte_daten['m 48 rel 70'] = gruppierte_daten['Maenner 1948'] / df['1970'][0] * -100\n",
    "gruppierte_daten['m 48 rel 22'] = gruppierte_daten['Maenner 1948'] / df['2022'][0] * -100\n",
    "gruppierte_daten['m 70 rel 22'] = gruppierte_daten['Maenner 1970'] / df['2022'][0] * -100\n",
    "gruppierte_daten['m 1970 rel']  = gruppierte_daten['Maenner 1970'] / df['1970'][0] * -100\n",
    "gruppierte_daten['m 2022 rel']  = gruppierte_daten['Maenner 2022'] / df['2022'][0] * -100\n",
    "gruppierte_daten['f 1948 rel']  = gruppierte_daten['Frauen 1948']  / df['1948'][0] *  100\n",
    "gruppierte_daten['f 48 rel 70'] = gruppierte_daten['Frauen 1948']  / df['1970'][0] *  100\n",
    "gruppierte_daten['f 48 rel 22'] = gruppierte_daten['Frauen 1948']  / df['2022'][0] *  100\n",
    "gruppierte_daten['f 70 rel 22'] = gruppierte_daten['Frauen 1970']  / df['2022'][0] *  100\n",
    "gruppierte_daten['f 1970 rel']  = gruppierte_daten['Frauen 1970']  / df['1970'][0] *  100\n",
    "gruppierte_daten['f 2022 rel']  = gruppierte_daten['Frauen 2022']  / df['2022'][0] *  100"
   ]
  },
  {
   "cell_type": "markdown",
   "metadata": {},
   "source": [
    "## Visualisierung der aufbereiteten Daten"
   ]
  },
  {
   "cell_type": "markdown",
   "metadata": {},
   "source": [
    "Die Daten werden mit `matblotlib.pyplot.barh` als horizontale Balken\n",
    "dargestellt. Durch die Art, wie die entsprechenden Libraries importiert\n",
    "worden sind, kann ein horizontaler Balken durch die Funktion `plt.barh`\n",
    "dargestellt werden. Als ersten zwei Argumente werden der Funktion \n",
    "die `x` und `y` Werte übergeben (Achtung: Weil die Grafik vertikal\n",
    "gestapelt wird, \n",
    "werden die `x` Werte vertikal dargestellt). Die Argumente drei und\n",
    "folgende dienen der Steuerung der Darstellung.\n",
    "\n",
    "Die Besonderheiten einzelner Befehle wird in der nächsten Zelle als\n",
    "Kommentar erläutert."
   ]
  },
  {
   "cell_type": "code",
   "execution_count": null,
   "metadata": {},
   "outputs": [],
   "source": [
    "# definiert die Standardschriftgrösse\n",
    "plt.rcParams.update({'font.size': 6})\n",
    "# die Liste farben_m/f steuert die Farbe der Balken\n",
    "# in Abhängigkeit des Index'; so werden die Balken\n",
    "# der nicht Erwerbstätigen gedimmt\n",
    "farben_m = ['cornflowerblue' if idx <= 5\n",
    "            or idx >= 21 else 'blue' \n",
    "            for idx in gruppierte_daten.index]\n",
    "farben_f = ['lightcoral' if idx <= 5\n",
    "            or idx >= 21 else 'red' \n",
    "            for idx in gruppierte_daten.index]\n",
    "# erstellt das eigentliche Diagramm\n",
    "plt.barh(gruppierte_daten['Alter'], \n",
    "         gruppierte_daten['m 1948 rel'], \n",
    "         label='Männer', color=farben_m)\n",
    "plt.barh(gruppierte_daten['Alter'], \n",
    "         gruppierte_daten['f 1948 rel'], \n",
    "         label='Frauen', color=farben_f)\n",
    "# formatiert die x-Achse mit positiven Werten (muss man nicht auswendig wissen)\n",
    "plt.gca().xaxis.set_major_formatter(ticker.FuncFormatter(lambda x, pos: f\"{abs(x)}\"))\n",
    "# Titel des Diagramms\n",
    "plt.title('Bevölkerungsverteilung 1948', fontsize=12)\n",
    "# Beschriftung der y-Achse\n",
    "plt.ylabel('Altersgruppen', fontsize=10)\n",
    "# Beschriftung der x-Achse\n",
    "plt.xlabel('Relativer Anteil an der Bevölkerung in %', fontsize=10)\n",
    "# erstellt eine Legende\n",
    "plt.legend()\n",
    "# löst die Darstellung des Diagramms aus\n",
    "plt.show()"
   ]
  },
  {
   "cell_type": "code",
   "execution_count": null,
   "metadata": {},
   "outputs": [],
   "source": [
    "plt.rcParams.update({'font.size': 6})\n",
    "\n",
    "farben_m = ['cornflowerblue' if idx <= 5\n",
    "            or idx >= 21 else 'blue' \n",
    "            for idx in gruppierte_daten.index]\n",
    "farben_f = ['lightcoral' if idx <= 5\n",
    "            or idx >= 21 else 'red' \n",
    "            for idx in gruppierte_daten.index]\n",
    "\n",
    "plt.barh(gruppierte_daten['Alter'], \n",
    "         gruppierte_daten['m 1970 rel'], \n",
    "         label='Männer', \n",
    "         color=farben_m)\n",
    "\n",
    "plt.barh(gruppierte_daten['Alter'], \n",
    "         gruppierte_daten['f 1970 rel'], \n",
    "         label='Frauen', \n",
    "         color=farben_f)\n",
    "\n",
    "# fügt die Balken für das Jahr 1948 als Umriss hinzu\n",
    "plt.barh(gruppierte_daten['Alter'],\n",
    "         gruppierte_daten['f 48 rel 70'], edgecolor='black', fill=False)\n",
    "plt.barh(gruppierte_daten['Alter'],\n",
    "         gruppierte_daten['m 48 rel 70'], edgecolor='black', \n",
    "         fill=False, label='1948 (in % von 1970)')\n",
    "\n",
    "\n",
    "\n",
    "plt.gca().xaxis.set_major_formatter(ticker.FuncFormatter(lambda x, pos: f\"{abs(x)}\"))\n",
    "plt.title('Bevölkerungsverteilung 1970', fontsize=12)\n",
    "plt.ylabel('Altersgruppen', fontsize=10)\n",
    "plt.xlabel('Relativer Anteil an der Bevölkerung in %', fontsize=10)\n",
    "plt.legend()\n",
    "plt.show()"
   ]
  },
  {
   "cell_type": "code",
   "execution_count": null,
   "metadata": {},
   "outputs": [],
   "source": [
    "plt.rcParams.update({'font.size': 6})\n",
    "\n",
    "farben_m = ['cornflowerblue' if idx <= 5\n",
    "            or idx >= 21 else 'blue' \n",
    "            for idx in gruppierte_daten.index]\n",
    "farben_f = ['lightcoral' if idx <= 5\n",
    "            or idx >= 21 else 'red' \n",
    "            for idx in gruppierte_daten.index]\n",
    "\n",
    "plt.barh(gruppierte_daten['Alter'], \n",
    "         gruppierte_daten['m 2022 rel'], \n",
    "         label='Männer', color=farben_m)\n",
    "plt.barh(gruppierte_daten['Alter'], \n",
    "         gruppierte_daten['f 2022 rel'], \n",
    "         label='Frauen', color=farben_f)\n",
    "\n",
    "plt.barh(gruppierte_daten['Alter'],\n",
    "         gruppierte_daten['f 70 rel 22'], edgecolor='black', fill=False)\n",
    "plt.barh(gruppierte_daten['Alter'],\n",
    "         gruppierte_daten['f 48 rel 22'], edgecolor='silver', fill=False)\n",
    "plt.barh(gruppierte_daten['Alter'],\n",
    "         gruppierte_daten['m 70 rel 22'], label='1970 (in % von 2022)',\n",
    "         edgecolor='black', fill=False)\n",
    "plt.barh(gruppierte_daten['Alter'],\n",
    "         gruppierte_daten['m 48 rel 22'], label='1948 (in % von 2022)',\n",
    "         edgecolor='silver', fill=False)\n",
    "\n",
    "plt.gca().xaxis.set_major_formatter(ticker.FuncFormatter(lambda x, pos: f\"{abs(x)}\"))\n",
    "plt.title('Bevölkerungsverteilung 2022', fontsize=12)\n",
    "plt.ylabel('Altersgruppen', fontsize=10)\n",
    "plt.xlabel('Relativer Anteil an der Bevölkerung in %', fontsize=10)\n",
    "plt.legend()\n",
    "plt.show()"
   ]
  },
  {
   "cell_type": "markdown",
   "metadata": {},
   "source": [
    "Das letzte Diagramm zeigt, dass, sofern am Finanzierungssystem nichts\n",
    "geändert wird, im Gegensatz zur Vergangenheit aufgrund der gestiegenen\n",
    "Lebenserwartung in Kombination mit dem Geburtenrückgang in Zukunft immer\n",
    "weniger Erwerbstätige immer mehr Rentner finanzieren müssen. "
   ]
  }
 ],
 "metadata": {
  "kernelspec": {
   "display_name": ".venv",
   "language": "python",
   "name": "python3"
  },
  "language_info": {
   "codemirror_mode": {
    "name": "ipython",
    "version": 3
   },
   "file_extension": ".py",
   "mimetype": "text/x-python",
   "name": "python",
   "nbconvert_exporter": "python",
   "pygments_lexer": "ipython3",
   "version": "3.12.2"
  }
 },
 "nbformat": 4,
 "nbformat_minor": 2
}
