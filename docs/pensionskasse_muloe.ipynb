{
 "cells": [
  {
   "cell_type": "markdown",
   "metadata": {},
   "source": [
    "# Die Pensionskasse"
   ]
  },
  {
   "cell_type": "markdown",
   "metadata": {},
   "source": [
    "Die Pensionskasse ist nach dem Kapitaldeckungsverfahren finanziert. Das heisst,\n",
    "jeder Versicherte der Pensionskassen spart ein individuelles Guthaben an\n",
    "aus dem die Rente finanziert wird.\n",
    "\n",
    "Aktuell (Februar 2024) wird das angesparte Guthaben mit einem gesetzlich\n",
    "festgeschriebenen Umwandlungssatz von 6.8% (\n",
    "    [Art. 14 Abs. 2 BVR](https://www.fedlex.admin.ch/eli/cc/1983/797_797_797/de#art_14)\n",
    ")\n",
    "in eine Rente umgerechnet. Das bedeutet, das jedes Jahr eine Rente in\n",
    "der Höhe von 6.8% des bei erreichen des Rentenalters angesparten\n",
    "Kaptials ausbezahlt wird."
   ]
  },
  {
   "cell_type": "markdown",
   "metadata": {},
   "source": [
    "## Wie lange reicht das angesparte Kapital?"
   ]
  },
  {
   "cell_type": "markdown",
   "metadata": {},
   "source": [
    "Das scheint eine relativ einfach zu beantwortende Frage zu sein.\n",
    "Wie oft kann von einem Kapital 6.8% des Anfangskapital weggenommen\n",
    "werden, bis nichts mehr übrig ist?"
   ]
  },
  {
   "cell_type": "code",
   "execution_count": 1,
   "metadata": {},
   "outputs": [
    {
     "name": "stdout",
     "output_type": "stream",
     "text": [
      "Die Ersparnisse reichen für 15 Jahre.\n"
     ]
    }
   ],
   "source": [
    "counter = 0\n",
    "savings = 100\n",
    "pension = 6.8\n",
    "\n",
    "while savings > 0:\n",
    "    savings -= pension\n",
    "    counter += 1\n",
    "\n",
    "print(f'Die Ersparnisse reichen für {counter} Jahre.')"
   ]
  },
  {
   "cell_type": "markdown",
   "metadata": {},
   "source": [
    "So weit so gut. Aber wie lange sollten die Ersparnisse tatsächlich\n",
    "reichen? Dazu muss auf die statistische Restlebenserwartung bei\n",
    "erreichen des Rentenalters abgestellt werden. Diese findet sich in den\n",
    "sogenannten *Sterbetafeln*. Diese werden nach geschlechtern getrennt\n",
    "durch das Bundesamt für Statistik zur Verfügung gestellt \n",
    "([Männer](https://www.bfs.admin.ch/bfs/de/home/statistiken/bevoelkerung/geburten-todesfaelle/lebenserwartung.assetdetail.27225580.html),\n",
    "    [Frauen](https://www.bfs.admin.ch/bfs/de/home/statistiken/bevoelkerung/geburten-todesfaelle/lebenserwartung.assetdetail.27225585.html)).\n",
    "\n",
    "Gemäss diesen Tabellen haben Männer, welche 2022 65 Jahre alt geworden\n",
    "sind eine Restlebenserwartung von 19.8 Jahren, Frauen gar eine solche\n",
    "von 22.5 Jahren. Den Männern fehle nach unserer Berechnung somit Kapital\n",
    "für 4.8 Jahre Rente, den Frauen für 7.5 Jahre Rente."
   ]
  },
  {
   "cell_type": "markdown",
   "metadata": {},
   "source": [
    "Das ist so natürlich nicht wahr. Das angesparte Kapital wirft auch nach\n",
    "erreichen des Rentenalters eine Rendite ab.  \n",
    "\n",
    "Wie hoch muss die Rendite sein, damit das Kapital für eine Rendite bis\n",
    "ans Lebensende reicht?  \n",
    "Der Einfachheit halber wird davon ausgegangen, als würden gleich viele\n",
    "Männer wie Frauen in Rente gehen und daher auf den Mittelwert der\n",
    "Restlebenserwartung abgestellt."
   ]
  },
  {
   "cell_type": "code",
   "execution_count": 15,
   "metadata": {},
   "outputs": [
    {
     "name": "stdout",
     "output_type": "stream",
     "text": [
      "Die erforderliche Verzinsung beträgt 3.60 %.\n",
      "100.00 96.70 93.28 89.75 86.09 82.30 78.38 74.33 70.13 65.78 61.29 56.63 51.81 46.83 41.67 36.32 30.80 25.07 19.15 13.02 6.68 0.11 "
     ]
    }
   ],
   "source": [
    "savings = 100\n",
    "pension = 6.8\n",
    "counter = int(19.8 + 22.5) // 2 + 1\n",
    "remaining_savings = [savings - i * pension for i in range(counter)]\n",
    "interest = 0.001\n",
    "\n",
    "while remaining_savings[-1] <= 0:\n",
    "    for i in range(1, counter):\n",
    "        remaining_savings[i] = remaining_savings[i - 1] * (1 + interest) - pension\n",
    "    interest += 0.001\n",
    "\n",
    "\n",
    "print(f'Die erforderliche Verzinsung beträgt {100 * interest:.2f} %.')\n",
    "for savings in remaining_savings:\n",
    "    print(f'{savings:.2f}', end=' ')"
   ]
  },
  {
   "cell_type": "markdown",
   "metadata": {},
   "source": [
    "Damit ist die Frage für die Zukunft beantwortet.\n",
    "\n",
    "Aber wurde das in der Vergangenheit tatsächlich erreicht?\n",
    "\n",
    "Gemäss einer \n",
    "[Zusammenstellung der UBS (aufgerufen im Februar\n",
    "2024)](https://www.ubs.com/microsites/focus/de/markets/2022/pension-fund-performance.html)\n",
    "wiesen die Pensionskassen in den Jahren von 2006 bis 2023 im Mittel die\n",
    "folgenden Renditen auf:"
   ]
  },
  {
   "cell_type": "code",
   "execution_count": 16,
   "metadata": {},
   "outputs": [
    {
     "name": "stderr",
     "output_type": "stream",
     "text": [
      "C:\\Users\\jcms\\AppData\\Local\\Temp\\ipykernel_11720\\4080736814.py:1: DeprecationWarning: \n",
      "Pyarrow will become a required dependency of pandas in the next major release of pandas (pandas 3.0),\n",
      "(to allow more performant data types, such as the Arrow string type, and better interoperability with other libraries)\n",
      "but was not found to be installed on your system.\n",
      "If this would cause problems for you,\n",
      "please provide us feedback at https://github.com/pandas-dev/pandas/issues/54466\n",
      "        \n",
      "  import pandas as pd\n"
     ]
    }
   ],
   "source": [
    "import pandas as pd"
   ]
  },
  {
   "cell_type": "code",
   "execution_count": 32,
   "metadata": {},
   "outputs": [
    {
     "data": {
      "text/html": [
       "<div>\n",
       "<style scoped>\n",
       "    .dataframe tbody tr th:only-of-type {\n",
       "        vertical-align: middle;\n",
       "    }\n",
       "\n",
       "    .dataframe tbody tr th {\n",
       "        vertical-align: top;\n",
       "    }\n",
       "\n",
       "    .dataframe thead th {\n",
       "        text-align: right;\n",
       "    }\n",
       "</style>\n",
       "<table border=\"1\" class=\"dataframe\">\n",
       "  <thead>\n",
       "    <tr style=\"text-align: right;\">\n",
       "      <th></th>\n",
       "      <th>Jahr</th>\n",
       "      <th>Rendite</th>\n",
       "    </tr>\n",
       "  </thead>\n",
       "  <tbody>\n",
       "    <tr>\n",
       "      <th>0</th>\n",
       "      <td>2006</td>\n",
       "      <td>5.94</td>\n",
       "    </tr>\n",
       "    <tr>\n",
       "      <th>1</th>\n",
       "      <td>2007</td>\n",
       "      <td>1.92</td>\n",
       "    </tr>\n",
       "    <tr>\n",
       "      <th>2</th>\n",
       "      <td>2008</td>\n",
       "      <td>-12.84</td>\n",
       "    </tr>\n",
       "    <tr>\n",
       "      <th>3</th>\n",
       "      <td>2009</td>\n",
       "      <td>10.59</td>\n",
       "    </tr>\n",
       "    <tr>\n",
       "      <th>4</th>\n",
       "      <td>2010</td>\n",
       "      <td>2.83</td>\n",
       "    </tr>\n",
       "    <tr>\n",
       "      <th>5</th>\n",
       "      <td>2011</td>\n",
       "      <td>-0.34</td>\n",
       "    </tr>\n",
       "    <tr>\n",
       "      <th>6</th>\n",
       "      <td>2012</td>\n",
       "      <td>7.16</td>\n",
       "    </tr>\n",
       "    <tr>\n",
       "      <th>7</th>\n",
       "      <td>2013</td>\n",
       "      <td>6.05</td>\n",
       "    </tr>\n",
       "    <tr>\n",
       "      <th>8</th>\n",
       "      <td>2014</td>\n",
       "      <td>7.36</td>\n",
       "    </tr>\n",
       "    <tr>\n",
       "      <th>9</th>\n",
       "      <td>2015</td>\n",
       "      <td>0.86</td>\n",
       "    </tr>\n",
       "    <tr>\n",
       "      <th>10</th>\n",
       "      <td>2016</td>\n",
       "      <td>3.54</td>\n",
       "    </tr>\n",
       "    <tr>\n",
       "      <th>11</th>\n",
       "      <td>2017</td>\n",
       "      <td>7.96</td>\n",
       "    </tr>\n",
       "    <tr>\n",
       "      <th>12</th>\n",
       "      <td>2018</td>\n",
       "      <td>-3.28</td>\n",
       "    </tr>\n",
       "    <tr>\n",
       "      <th>13</th>\n",
       "      <td>2019</td>\n",
       "      <td>11.29</td>\n",
       "    </tr>\n",
       "    <tr>\n",
       "      <th>14</th>\n",
       "      <td>2020</td>\n",
       "      <td>4.09</td>\n",
       "    </tr>\n",
       "    <tr>\n",
       "      <th>15</th>\n",
       "      <td>2021</td>\n",
       "      <td>8.40</td>\n",
       "    </tr>\n",
       "    <tr>\n",
       "      <th>16</th>\n",
       "      <td>2022</td>\n",
       "      <td>-9.58</td>\n",
       "    </tr>\n",
       "    <tr>\n",
       "      <th>17</th>\n",
       "      <td>2023</td>\n",
       "      <td>4.97</td>\n",
       "    </tr>\n",
       "  </tbody>\n",
       "</table>\n",
       "</div>"
      ],
      "text/plain": [
       "    Jahr  Rendite \n",
       "0   2006      5.94\n",
       "1   2007      1.92\n",
       "2   2008    -12.84\n",
       "3   2009     10.59\n",
       "4   2010      2.83\n",
       "5   2011     -0.34\n",
       "6   2012      7.16\n",
       "7   2013      6.05\n",
       "8   2014      7.36\n",
       "9   2015      0.86\n",
       "10  2016      3.54\n",
       "11  2017      7.96\n",
       "12  2018     -3.28\n",
       "13  2019     11.29\n",
       "14  2020      4.09\n",
       "15  2021      8.40\n",
       "16  2022     -9.58\n",
       "17  2023      4.97"
      ]
     },
     "execution_count": 32,
     "metadata": {},
     "output_type": "execute_result"
    }
   ],
   "source": [
    "actual_performance = pd.read_csv('../data/pk_performance.csv', header=0)\n",
    "actual_performance"
   ]
  },
  {
   "cell_type": "code",
   "execution_count": 37,
   "metadata": {},
   "outputs": [
    {
     "data": {
      "text/plain": [
       "[100,\n",
       " 95.12000000000002,\n",
       " 76.10659200000002,\n",
       " 77.36628009280004,\n",
       " 72.75574581942628,\n",
       " 65.70837628364023,\n",
       " 63.613096025548884,\n",
       " 60.661688335094595,\n",
       " 58.32638859655755,\n",
       " 52.02799553848794,\n",
       " 47.06978658055042,\n",
       " 44.016541592362245,\n",
       " 35.772799028132766,\n",
       " 33.01154803840896,\n",
       " 27.561720353179883,\n",
       " 23.076904862846995,\n",
       " 14.066137376986251,\n",
       " 7.965224404622469]"
      ]
     },
     "execution_count": 37,
     "metadata": {},
     "output_type": "execute_result"
    }
   ],
   "source": [
    "performance = actual_performance['Rendite '].to_list()\n",
    "\n",
    "available_capital = [100]\n",
    "\n",
    "for i in range(1, len(performance)):\n",
    "    available_capital.append(available_capital[i - 1] * (1 + performance[i]/100) - pension)\n",
    "    \n",
    "available_capital"
   ]
  }
 ],
 "metadata": {
  "kernelspec": {
   "display_name": ".venv",
   "language": "python",
   "name": "python3"
  },
  "language_info": {
   "codemirror_mode": {
    "name": "ipython",
    "version": 3
   },
   "file_extension": ".py",
   "mimetype": "text/x-python",
   "name": "python",
   "nbconvert_exporter": "python",
   "pygments_lexer": "ipython3",
   "version": "3.12.2"
  }
 },
 "nbformat": 4,
 "nbformat_minor": 2
}
