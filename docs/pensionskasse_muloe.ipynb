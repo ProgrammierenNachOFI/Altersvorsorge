{
 "cells": [
  {
   "cell_type": "markdown",
   "metadata": {},
   "source": [
    "# Die Pensionskasse"
   ]
  },
  {
   "cell_type": "markdown",
   "metadata": {},
   "source": [
    "Die Pensionskasse ist nach dem Kapitaldeckungsverfahren finanziert. Das heisst,\n",
    "jeder Versicherte der Pensionskassen spart ein individuelles Guthaben an,\n",
    "aus dem die Rente finanziert wird.\n",
    "\n",
    "Aktuell (Februar 2024) wird das angesparte Guthaben mit einem gesetzlich\n",
    "festgeschriebenen Umwandlungssatz von 6.8% \n",
    "([Art. 14 Abs. 2 BVG](https://www.fedlex.admin.ch/eli/cc/1983/797_797_797/de#art_14))\n",
    "in eine Rente umgerechnet. Das bedeutet, dass jedes Jahr eine Rente in\n",
    "der Höhe von 6.8% des bei Erreichen des Rentenalters angesparten\n",
    "Kapitals ausbezahlt wird."
   ]
  },
  {
   "cell_type": "markdown",
   "metadata": {},
   "source": [
    "## Wie lange reicht das angesparte Kapital theoretisch?"
   ]
  },
  {
   "cell_type": "markdown",
   "metadata": {},
   "source": [
    "Das scheint eine relativ einfach zu beantwortende Frage zu sein.\n",
    "Es sind 6.8% des angesparten Kapitals zu berechnen. Anschliessend ist\n",
    "dieser Betrag so oft vom angesparten Kapital in Abzug zu bringen, bis\n",
    "nichts mehr übrig ist."
   ]
  },
  {
   "cell_type": "markdown",
   "metadata": {},
   "source": [
    "### Aufgabe\n",
    "\n",
    "Wie oft können 6.8% des bei Erreichen des Rentenalters angesparten\n",
    "Kaptials in Abzug gebracht werden?  \n",
    "Geben Sie das Resultat in Form eines F-Strings aus."
   ]
  },
  {
   "cell_type": "markdown",
   "metadata": {},
   "source": [
    "### Musterlösung"
   ]
  },
  {
   "cell_type": "code",
   "execution_count": 1,
   "metadata": {},
   "outputs": [
    {
     "name": "stdout",
     "output_type": "stream",
     "text": [
      "Die Ersparnisse reichen für 15 Jahre.\n"
     ]
    }
   ],
   "source": [
    "years = 0\n",
    "savings = 100\n",
    "pension = 6.8\n",
    "\n",
    "while savings > 0:\n",
    "    savings -= pension\n",
    "    years += 1\n",
    "\n",
    "print(f'Die Ersparnisse reichen für {years} Jahre.')"
   ]
  },
  {
   "cell_type": "markdown",
   "metadata": {},
   "source": [
    "So weit so gut. Aber wie lange sollten die Ersparnisse tatsächlich\n",
    "reichen? Dazu muss auf die statistische Restlebenserwartung bei\n",
    "Erreichen des Rentenalters abgestellt werden. Diese findet sich in den\n",
    "sogenannten *Sterbetafeln*. Diese werden, nach Geschlechtern getrennt,\n",
    "durch das Bundesamt für Statistik zur Verfügung gestellt \n",
    "([Männer](https://www.bfs.admin.ch/bfs/de/home/statistiken/bevoelkerung/geburten-todesfaelle/lebenserwartung.assetdetail.27225580.html),\n",
    "[Frauen](https://www.bfs.admin.ch/bfs/de/home/statistiken/bevoelkerung/geburten-todesfaelle/lebenserwartung.assetdetail.27225585.html)).\n",
    "\n",
    "Gemäss diesen Tabellen haben Männer, welche 2022 65 Jahre alt geworden\n",
    "sind, eine Restlebenserwartung von 19.8 Jahren, Frauen gar eine solche\n",
    "von 22.5 Jahren. Den Männern fehlen nach obiger Berechnung somit Kapital\n",
    "für 4.8 Jahre Rente, den Frauen für 7.5 Jahre."
   ]
  },
  {
   "cell_type": "markdown",
   "metadata": {},
   "source": [
    "## Wie lange reicht das angesparte Kapital praktisch?"
   ]
  },
  {
   "cell_type": "markdown",
   "metadata": {},
   "source": [
    "Das angesparte Kapital wirft auch nach\n",
    "Erreichen des Rentenalters eine Rendite ab. Damit muss die Frage geklärt\n",
    "werden, wie hoch die Verzinsung des angesparten Kapitals sein muss,\n",
    "damit unter Einhaltung des \n",
    "gesetzlichen Umwandlungssatzes bis zum Lebensende eine Rente ausbezahlt\n",
    "werden kann."
   ]
  },
  {
   "cell_type": "markdown",
   "metadata": {},
   "source": [
    "### Aufgabe\n",
    "\n",
    "Wie hoch muss die Verzinsung des Restkapitals sein, damit es im\n",
    "Durchschnitt für eine Rente von 6.8% über die Dauer von 22 Jahren\n",
    "reicht?  \n",
    "Beschreiben Sie Ihren Lösungsansatz, bevor Sie zu programmieren\n",
    "beginnen.  \n",
    "Geben Sie das Resultat in Form eines F-Strings aus."
   ]
  },
  {
   "cell_type": "markdown",
   "metadata": {},
   "source": [
    "### Musterlösung"
   ]
  },
  {
   "cell_type": "markdown",
   "metadata": {},
   "source": [
    "Um diesen Zinssatz zu ermitteln, wird rechnerisch per Ende Jahr die\n",
    "Hälfte einer Jahresrente in Abzug gebracht, anschliessend das noch\n",
    "vorhandene Kapital verzinst und dann abschliessend die zweite Hälfte\n",
    "einer Jahresrente in Abzug gebracht.  \n",
    "Der Zinssatz wird, beginnend bei 0.1%, so lange um 0.1 Prozentpunkte\n",
    "erhöht, bis das Geld für eine Rente bis zum Lebensende reicht."
   ]
  },
  {
   "cell_type": "code",
   "execution_count": 2,
   "metadata": {},
   "outputs": [
    {
     "name": "stdout",
     "output_type": "stream",
     "text": [
      "Die erforderliche Verzinsung beträgt 3.8 %.\n",
      "Mit diesem Zinssatz bleibt im letzen Jahr noch ein Rest von 0.21 übrig.\n"
     ]
    }
   ],
   "source": [
    "savings = 100\n",
    "pension = 6.8\n",
    "years = 22     # Aufgerundete durchschnittliche Restlebenserwartung\n",
    "remaining_savings = [savings] + [0] * (years - 1)\n",
    "interest = 0.001\n",
    "\n",
    "\"\"\"\n",
    "Die Mindestverzinsung wird nicht berechnet, sondern iterativ bestimmt.\n",
    "So muss keine Gleichung gefunden und gelöst werden.\n",
    "\"\"\"\n",
    "while remaining_savings[-1] <= 0:\n",
    "    for i in range(1, years):\n",
    "        remaining_savings[i] = ((remaining_savings[i - 1] - pension/2) *\n",
    "        (1 + interest) - pension/2)\n",
    "    interest += 0.001\n",
    "\n",
    "\n",
    "print(\n",
    "    f'Die erforderliche Verzinsung '\n",
    "    f'beträgt {100 * interest:.1f} %.'\n",
    "    )\n",
    "\n",
    "print(\n",
    "    f'Mit diesem Zinssatz bleibt im letzen Jahr '\n",
    "    f'noch ein Rest von {remaining_savings[-1]:.2f} übrig.'\n",
    ")"
   ]
  },
  {
   "cell_type": "markdown",
   "metadata": {},
   "source": [
    "Damit ist die Frage beantwortet, wie hoch die Verzinsung des angesparten\n",
    "Kaptials sein muss, um im Durchschnitt eine lebenslange Rente\n",
    "ausschütten zu können.\n",
    "\n",
    "Nicht geklärt ist allerdings die Frage, ob diese Rendite in der\n",
    "Vergangenheit tatsächlich erreicht wurde.\n"
   ]
  },
  {
   "cell_type": "markdown",
   "metadata": {},
   "source": [
    "## Modellrechnung mit den effektiv erzielten Renditen"
   ]
  },
  {
   "cell_type": "markdown",
   "metadata": {},
   "source": [
    "Um die vorhandenen Daten für die Modellrechnung\n",
    "importieren zu können, wird in der nächsten Zelle die `pandas` Library\n",
    "importiert."
   ]
  },
  {
   "cell_type": "code",
   "execution_count": null,
   "metadata": {},
   "outputs": [],
   "source": [
    "import pandas as pd"
   ]
  },
  {
   "cell_type": "markdown",
   "metadata": {},
   "source": [
    "Gemäss einer \n",
    "[Zusammenstellung der UBS (aufgerufen im Februar\n",
    "2024)](https://www.ubs.com/microsites/focus/de/markets/2022/pension-fund-performance.html)\n",
    "wiesen die Pensionskassen in den Jahren von 2006 bis 2023 im Mittel die\n",
    "folgenden Renditen auf:"
   ]
  },
  {
   "cell_type": "markdown",
   "metadata": {},
   "source": [
    "### Aufgabe\n",
    "\n",
    "Lesen Sie die Datei `pk_performance.csv` im Ordner data als Panda\n",
    "DataFrame ein und geben diesen als String aus. Falls Sie in Google Colab\n",
    "arbeiten, lautet die url  \n",
    "https://raw.githubusercontent.com/ProgrammierenNachOFI/Altersvorsorge/main/data/pk_performance.csv"
   ]
  },
  {
   "cell_type": "markdown",
   "metadata": {},
   "source": [
    "### Musterlösung"
   ]
  },
  {
   "cell_type": "code",
   "execution_count": 4,
   "metadata": {},
   "outputs": [
    {
     "name": "stdout",
     "output_type": "stream",
     "text": [
      "    Jahr  Rendite\n",
      "0   2006     5.94\n",
      "1   2007     1.92\n",
      "2   2008   -12.84\n",
      "3   2009    10.59\n",
      "4   2010     2.83\n",
      "5   2011    -0.34\n",
      "6   2012     7.16\n",
      "7   2013     6.05\n",
      "8   2014     7.36\n",
      "9   2015     0.86\n",
      "10  2016     3.54\n",
      "11  2017     7.96\n",
      "12  2018    -3.28\n",
      "13  2019    11.29\n",
      "14  2020     4.09\n",
      "15  2021     8.40\n",
      "16  2022    -9.58\n",
      "17  2023     4.97\n"
     ]
    }
   ],
   "source": [
    "# Import in Google Colab\n",
    "url = 'https://raw.githubusercontent.com/ProgrammierenNachOFI/Altersvorsorge/main/data/pk_performance.csv'\n",
    "actual_performance = pd.read_csv(url, header = 0,\n",
    "                                 dtype={'Jahr': int, 'Rendite': float})\n",
    "\n",
    "\"\"\"Import in lokalem Repository\n",
    "actual_performance = pd.read_csv('../data/pk_performance.csv', header=0,\n",
    "                                 dtype={'Jahr': int, 'Rendite': float})\n",
    "\n",
    "print(actual_performance.to_string())\n",
    "\"\"\""
   ]
  },
  {
   "cell_type": "markdown",
   "metadata": {},
   "source": [
    "In der Folge wird versucht zu zeigen, was das für die Renten bedeutet.\n",
    "Die Daten der UBS decken den Zeitraum von 2006 bis 2023 ab. Das sind 18\n",
    "Jahre. Damit Daten für die mittlere Restlebenserwartung zur Verfügung\n",
    "stehen, werden die Jahre 2002 bis 2005 mit der durchschnittlichen\n",
    "Rendite gemäss der UBS Datenreihe ergänzt."
   ]
  },
  {
   "cell_type": "markdown",
   "metadata": {},
   "source": [
    "### Aufgabe\n",
    "\n",
    "Berechnen Sie aus den Daten die mittlere Rendite der Pensionskassen und\n",
    "geben Sie das Resultat als F-String aus."
   ]
  },
  {
   "cell_type": "markdown",
   "metadata": {},
   "source": [
    "### Musterlösung"
   ]
  },
  {
   "cell_type": "code",
   "execution_count": 5,
   "metadata": {},
   "outputs": [
    {
     "name": "stdout",
     "output_type": "stream",
     "text": [
      "Die effektiv erzielte durchschnittliche Rendite gemäss Daten \n",
      "der UBS beträgt 3.16%.\n"
     ]
    }
   ],
   "source": [
    "durchschnittliche_rendite = actual_performance['Rendite'].mean()\n",
    "print(\n",
    "    f'Die effektiv erzielte durchschnittliche '\n",
    "    f'Rendite gemäss Daten \\n'\n",
    "    f'der UBS beträgt {durchschnittliche_rendite:.2f}%.'\n",
    "    )"
   ]
  },
  {
   "cell_type": "markdown",
   "metadata": {},
   "source": [
    "### Aufgabe\n",
    "\n",
    "Ergänzen Sie die eingelesenen Daten um die Jahre 2002 - 2005 mit der\n",
    "mittleren Rendite."
   ]
  },
  {
   "cell_type": "markdown",
   "metadata": {},
   "source": [
    "### Musterlösung"
   ]
  },
  {
   "cell_type": "code",
   "execution_count": 6,
   "metadata": {},
   "outputs": [],
   "source": [
    "pre_years = [[2002, 3.16],\n",
    "             [2003, 3.16],\n",
    "             [2004, 3.16],\n",
    "             [2005, 3.16],]\n",
    "\n",
    "df = pd.DataFrame(pre_years, columns=['Jahr', 'Rendite'])"
   ]
  },
  {
   "cell_type": "markdown",
   "metadata": {},
   "source": [
    "Um zu zeigen, dass die Jahre korrekt in die Datenreihe eingefügt sind,\n",
    "werden die ersten 6 Zeilen des Dataframe angezeigt."
   ]
  },
  {
   "cell_type": "code",
   "execution_count": 7,
   "metadata": {},
   "outputs": [
    {
     "name": "stdout",
     "output_type": "stream",
     "text": [
      "   Jahr  Rendite\n",
      "0  2002     3.16\n",
      "1  2003     3.16\n",
      "2  2004     3.16\n",
      "3  2005     3.16\n",
      "4  2006     5.94\n",
      "5  2007     1.92\n"
     ]
    }
   ],
   "source": [
    "extendend_performance = pd.concat([df, actual_performance], \n",
    "                                  ignore_index=True)\n",
    "\n",
    "print(extendend_performance.head(6))"
   ]
  },
  {
   "cell_type": "markdown",
   "metadata": {},
   "source": [
    "### Aufgabe\n",
    "\n",
    "Zeigen Sie, was geschieht, wenn das angesparte Kapital mit 6.8% in eine\n",
    "Rente umgewandelt wird und mit der effektiven Rendite verzinst wird.  \n",
    "Halten Sie Ihre Beobachtung schriftlich fest."
   ]
  },
  {
   "cell_type": "markdown",
   "metadata": {},
   "source": [
    "Als nächstes werden die effektiv erzielten Renditen auf das angesparte\n",
    "Kapital zur Anwendung gebracht."
   ]
  },
  {
   "cell_type": "code",
   "execution_count": 8,
   "metadata": {},
   "outputs": [
    {
     "name": "stdout",
     "output_type": "stream",
     "text": [
      "    Jahr  Verfügbares Kapital\n",
      "16  2018            16.733858\n",
      "17  2019            11.439251\n",
      "18  2020             4.968056\n",
      "19  2021            -1.700227\n",
      "20  2022            -8.011626\n",
      "21  2023           -15.378783\n"
     ]
    }
   ],
   "source": [
    "performance = extendend_performance['Rendite'].to_list()\n",
    "\n",
    "available_capital = [100]\n",
    "\n",
    "for i in range(1, len(performance)):\n",
    "        available_capital.append(\n",
    "                (available_capital[i - 1] - pension / 2) * \n",
    "                (1 + performance[i]/100) - pension / 2\n",
    "                )\n",
    "        \n",
    "\"\"\"\n",
    "Für eine bessere Lesbarkeit der Ausgabe wird das Ergebnis \n",
    "in ein Panda DataFrame umgewandelt.\n",
    "\"\"\"\n",
    "    \n",
    "years = extendend_performance['Jahr'].to_list()\n",
    "\n",
    "result = pd.DataFrame({'Jahr': years, \n",
    "                       'Verfügbares Kapital': available_capital})\n",
    "\n",
    "print(result.tail(6))"
   ]
  },
  {
   "cell_type": "markdown",
   "metadata": {},
   "source": [
    "Das Resultat der Simulationsrechnung zeigt, dass statt der erfordlichen\n",
    "21 Jahre lediglich deren 19 abgedeckt sind (**Achtung**: Der Index\n",
    "beginnt mit 0!)."
   ]
  }
 ],
 "metadata": {
  "kernelspec": {
   "display_name": "Python 3 (ipykernel)",
   "language": "python",
   "name": "python3"
  },
  "language_info": {
   "codemirror_mode": {
    "name": "ipython",
    "version": 3
   },
   "file_extension": ".py",
   "mimetype": "text/x-python",
   "name": "python",
   "nbconvert_exporter": "python",
   "pygments_lexer": "ipython3",
   "version": "3.12.2"
  }
 },
 "nbformat": 4,
 "nbformat_minor": 2
}
