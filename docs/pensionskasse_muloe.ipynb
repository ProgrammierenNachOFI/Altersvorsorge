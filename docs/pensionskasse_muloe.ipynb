{
 "cells": [
  {
   "cell_type": "markdown",
   "metadata": {},
   "source": [
    "# Die Pensionskasse"
   ]
  },
  {
   "cell_type": "markdown",
   "metadata": {},
   "source": [
    "Die Pensionskasse ist nach dem Kapitaldeckungsverfahren finanziert. Das heisst,\n",
    "jeder Versicherte der Pensionskassen spart ein individuelles Guthaben an\n",
    "aus dem die Rente finanziert wird.\n",
    "\n",
    "Aktuell (Februar 2024) wird das angesparte Guthaben mit einem gesetzlich\n",
    "festgeschriebenen Umwandlungssatz von 6.8% (\n",
    "    [Art. 14 Abs. 2 BVR](https://www.fedlex.admin.ch/eli/cc/1983/797_797_797/de#art_14)\n",
    ")\n",
    "in eine Rente umgerechnet. Das bedeutet, das jedes Jahr eine Rente in\n",
    "der Höhe von 6.8% des bei erreichen des Rentenalters angesparten\n",
    "Kaptials ausbezahlt wird."
   ]
  },
  {
   "cell_type": "markdown",
   "metadata": {},
   "source": [
    "## Wie lange reicht das angesparte Kapital?"
   ]
  },
  {
   "cell_type": "markdown",
   "metadata": {},
   "source": [
    "Das scheint eine relativ einfach zu beantwortende Frage zu sein.\n",
    "Wie oft kann von einem Kapital 6.8% des Anfangskapital weggenommen\n",
    "werden, bis nichts mehr übrig ist?"
   ]
  },
  {
   "cell_type": "code",
   "execution_count": 1,
   "metadata": {},
   "outputs": [
    {
     "name": "stdout",
     "output_type": "stream",
     "text": [
      "Die Ersparnisse reichen für 15 Jahre.\n"
     ]
    }
   ],
   "source": [
    "counter = 0\n",
    "savings = 100\n",
    "pension = 6.8\n",
    "\n",
    "while savings > 0:\n",
    "    savings -= pension\n",
    "    counter += 1\n",
    "\n",
    "print(f'Die Ersparnisse reichen für {counter} Jahre.')"
   ]
  },
  {
   "cell_type": "markdown",
   "metadata": {},
   "source": [
    "So weit so gut. Aber wie lange sollten die Ersparnisse tatsächlich\n",
    "reichen? Dazu muss auf die statistische Restlebenserwartung bei\n",
    "erreichen des Rentenalters abgestellt werden. Diese findet sich in den\n",
    "sogenannten *Sterbetafeln*. Diese werden nach geschlechtern getrennt\n",
    "durch das Bundesamt für Statistik zur Verfügung gestellt \n",
    "([Männer](https://www.bfs.admin.ch/bfs/de/home/statistiken/bevoelkerung/geburten-todesfaelle/lebenserwartung.assetdetail.27225580.html),\n",
    "    [Frauen](https://www.bfs.admin.ch/bfs/de/home/statistiken/bevoelkerung/geburten-todesfaelle/lebenserwartung.assetdetail.27225585.html)).\n",
    "\n",
    "Gemäss diesen Tabellen haben Männer, welche 2022 65 Jahre alt geworden\n",
    "sind eine Restlebenserwartung von 19.8 Jahren, Frauen gar eine solche\n",
    "von 22.5 Jahren. Den Männern fehle nach unserer Berechnung somit Kapital\n",
    "für 4.8 Jahre Rente, den Frauen für 7.5 Jahre Rente."
   ]
  },
  {
   "cell_type": "markdown",
   "metadata": {},
   "source": [
    "Das ist so natürlich nicht wahr. Das angesparte Kapital wirft auch nach\n",
    "erreichen des Rentenalters eine Rendite ab.  \n",
    "\n",
    "Wie hoch muss die Rendite sein, damit das Kapital für eine Rendite bis\n",
    "ans Lebensende reicht?  \n",
    "Der Einfachheit halber wird davon ausgegangen, als würden gleich viele\n",
    "Männer wie Frauen in Rente gehen und daher auf den Mittelwert der\n",
    "Restlebenserwartung abgestellt."
   ]
  }
 ],
 "metadata": {
  "kernelspec": {
   "display_name": ".venv",
   "language": "python",
   "name": "python3"
  },
  "language_info": {
   "codemirror_mode": {
    "name": "ipython",
    "version": 3
   },
   "file_extension": ".py",
   "mimetype": "text/x-python",
   "name": "python",
   "nbconvert_exporter": "python",
   "pygments_lexer": "ipython3",
   "version": "3.12.2"
  }
 },
 "nbformat": 4,
 "nbformat_minor": 2
}
