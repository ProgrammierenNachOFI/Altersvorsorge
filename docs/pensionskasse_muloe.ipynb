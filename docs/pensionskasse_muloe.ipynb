{
 "cells": [
  {
   "cell_type": "markdown",
   "metadata": {},
   "source": [
    "# Die Pensionskasse"
   ]
  },
  {
   "cell_type": "markdown",
   "metadata": {},
   "source": [
    "Die Pensionskasse ist nach dem Kapitaldeckungsverfahren finanziert. Das heisst,\n",
    "jeder Versicherte der Pensionskassen spart ein individuelles Guthaben an,\n",
    "aus dem die Rente finanziert wird.\n",
    "\n",
    "Aktuell (Februar 2024) wird das angesparte Guthaben mit einem gesetzlich\n",
    "festgeschriebenen Umwandlungssatz von 6.8% \n",
    "([Art. 14 Abs. 2 BVG](https://www.fedlex.admin.ch/eli/cc/1983/797_797_797/de#art_14))\n",
    "in eine Rente umgerechnet. Das bedeutet, dass jedes Jahr eine Rente in\n",
    "der Höhe von 6.8% des bei Erreichen des Rentenalters angesparten\n",
    "Kaptials ausbezahlt wird."
   ]
  },
  {
   "cell_type": "markdown",
   "metadata": {},
   "source": [
    "## Wie lange reicht das angesparte Kapital theoretisch?"
   ]
  },
  {
   "cell_type": "markdown",
   "metadata": {},
   "source": [
    "Das scheint eine relativ einfach zu beantwortende Frage zu sein.\n",
    "Es sind 6.8% des angesparten Kapitals zu berechnen. Anschliessend ist\n",
    "dieser Betrag so oft vom angesparten Kapital in Abzug zu bringen, bis\n",
    "nichts mehr übrig ist."
   ]
  },
  {
   "cell_type": "code",
   "execution_count": 4,
   "metadata": {},
   "outputs": [
    {
     "name": "stdout",
     "output_type": "stream",
     "text": [
      "Die Ersparnisse reichen für 15 Jahre.\n"
     ]
    }
   ],
   "source": [
    "counter = 0\n",
    "savings = 100\n",
    "pension = 6.8\n",
    "\n",
    "while savings > 0:\n",
    "    savings -= pension\n",
    "    counter += 1\n",
    "\n",
    "print(f'Die Ersparnisse reichen für {counter} Jahre.')"
   ]
  },
  {
   "cell_type": "markdown",
   "metadata": {},
   "source": [
    "So weit so gut. Aber wie lange sollten die Ersparnisse tatsächlich\n",
    "reichen? Dazu muss auf die statistische Restlebenserwartung bei\n",
    "Erreichen des Rentenalters abgestellt werden. Diese findet sich in den\n",
    "sogenannten *Sterbetafeln*. Diese werden, nach Geschlechtern getrennt,\n",
    "durch das Bundesamt für Statistik zur Verfügung gestellt \n",
    "([Männer](https://www.bfs.admin.ch/bfs/de/home/statistiken/bevoelkerung/geburten-todesfaelle/lebenserwartung.assetdetail.27225580.html),\n",
    "[Frauen](https://www.bfs.admin.ch/bfs/de/home/statistiken/bevoelkerung/geburten-todesfaelle/lebenserwartung.assetdetail.27225585.html)).\n",
    "\n",
    "Gemäss diesen Tabellen haben Männer, welche 2022 65 Jahre alt geworden\n",
    "sind, eine Restlebenserwartung von 19.8 Jahren, Frauen gar eine solche\n",
    "von 22.5 Jahren. Den Männern fehlen nach obiger Berechnung somit Kapital\n",
    "für 4.8 Jahre Rente, den Frauen für 7.5 Jahre."
   ]
  },
  {
   "cell_type": "markdown",
   "metadata": {},
   "source": [
    "## Wie lange reicht das angesparte Kapital praktisch?"
   ]
  },
  {
   "cell_type": "markdown",
   "metadata": {},
   "source": [
    "Das angesparte Kapital wirft auch nach\n",
    "erreichen des Rentenalters eine Rendite ab. Damit muss die Frage geklärt\n",
    "werden, wie hoch die Verzinsung sein muss, damit unter Einhaltung des\n",
    "gesetzlichen Umwandlungssatzes bis zum Lebensende eine Rente ausbezahlt\n",
    "werden kann."
   ]
  },
  {
   "cell_type": "markdown",
   "metadata": {},
   "source": [
    "Um diesen Zinssatz zu ermitteln, wird rechnerisch per Ende Jahr das noch\n",
    "vorhandene Kapital verzinst und dann von diesem Betrag die jährliche\n",
    "Rente in Abzug gebracht.\n",
    "\n",
    "Der Zinssatz wird, beginnend bei 0.1%, so lange um 0.1 Prozentpunkte\n",
    "erhöht, bis das Geld für eine Rente bis zum Lebensende reicht."
   ]
  },
  {
   "cell_type": "code",
   "execution_count": 4,
   "metadata": {},
   "outputs": [
    {
     "name": "stdout",
     "output_type": "stream",
     "text": [
      "Die erforderliche Verzinsung beträgt 3.6 %.\n",
      "100.00 96.70 93.28 89.75 86.09 82.30 78.38 74.33 70.13 65.78 61.29 56.63 51.81 46.83 41.67 36.32 30.80 25.07 19.15 13.02 6.68 0.11 "
     ]
    }
   ],
   "source": [
    "savings = 100\n",
    "pension = 6.8\n",
    "counter = int(19.8 + 22.5) // 2 + 1\n",
    "remaining_savings = [savings - pension * i\n",
    "                     for i in range(counter)]\n",
    "interest = 0.001\n",
    "\n",
    "\"\"\"\n",
    "Die Mindestverzinsung wird nicht berechnet, sondern iterativ bestimmt.\n",
    "So muss keine Gleichung gefunden und gelöst werden.\n",
    "\"\"\"\n",
    "while remaining_savings[-1] <= 0:\n",
    "    for i in range(1, counter):\n",
    "        remaining_savings[i] = remaining_savings[i - 1] * (1 + interest) - pension\n",
    "    interest += 0.001\n",
    "\n",
    "\n",
    "print(f'Die erforderliche Verzinsung beträgt {100 * interest:.1f} %.')\n",
    "for savings in remaining_savings:\n",
    "    print(f'{savings:.2f}', end=' ')"
   ]
  },
  {
   "cell_type": "markdown",
   "metadata": {},
   "source": [
    "Damit ist die Frage beantwortet, wie hoch die Verzinsung des angesparten\n",
    "Kaptials sein muss, um im Durchschnitt eine lebenslange Rente\n",
    "ausschütten zu können.\n",
    "\n",
    "Nicht geklärt ist allerdings die Frage, ob diese Rendite in der\n",
    "Vergangenheit tatsächlich erreicht wurde.\n"
   ]
  },
  {
   "cell_type": "markdown",
   "metadata": {},
   "source": [
    "## Modellrechnung mit den effektiv erzielten Renditen"
   ]
  },
  {
   "cell_type": "markdown",
   "metadata": {},
   "source": [
    "Um die Modellrechnung für die Modellrechnung die vorhandenen Daten\n",
    "importieren zu können, wird in der nächsten Zelle die `pandas` Library\n",
    "importiert."
   ]
  },
  {
   "cell_type": "code",
   "execution_count": 5,
   "metadata": {},
   "outputs": [
    {
     "name": "stderr",
     "output_type": "stream",
     "text": [
      "C:\\Users\\jcms\\AppData\\Local\\Temp\\ipykernel_27380\\4080736814.py:1: DeprecationWarning: \n",
      "Pyarrow will become a required dependency of pandas in the next major release of pandas (pandas 3.0),\n",
      "(to allow more performant data types, such as the Arrow string type, and better interoperability with other libraries)\n",
      "but was not found to be installed on your system.\n",
      "If this would cause problems for you,\n",
      "please provide us feedback at https://github.com/pandas-dev/pandas/issues/54466\n",
      "        \n",
      "  import pandas as pd\n"
     ]
    }
   ],
   "source": [
    "import pandas as pd"
   ]
  },
  {
   "cell_type": "markdown",
   "metadata": {},
   "source": [
    "Gemäss einer \n",
    "[Zusammenstellung der UBS (aufgerufen im Februar\n",
    "2024)](https://www.ubs.com/microsites/focus/de/markets/2022/pension-fund-performance.html)\n",
    "wiesen die Pensionskassen in den Jahren von 2006 bis 2023 im Mittel die\n",
    "folgenden Renditen auf:"
   ]
  },
  {
   "cell_type": "code",
   "execution_count": 6,
   "metadata": {},
   "outputs": [
    {
     "data": {
      "text/html": [
       "<div>\n",
       "<style scoped>\n",
       "    .dataframe tbody tr th:only-of-type {\n",
       "        vertical-align: middle;\n",
       "    }\n",
       "\n",
       "    .dataframe tbody tr th {\n",
       "        vertical-align: top;\n",
       "    }\n",
       "\n",
       "    .dataframe thead th {\n",
       "        text-align: right;\n",
       "    }\n",
       "</style>\n",
       "<table border=\"1\" class=\"dataframe\">\n",
       "  <thead>\n",
       "    <tr style=\"text-align: right;\">\n",
       "      <th></th>\n",
       "      <th>Jahr</th>\n",
       "      <th>Rendite</th>\n",
       "    </tr>\n",
       "  </thead>\n",
       "  <tbody>\n",
       "    <tr>\n",
       "      <th>0</th>\n",
       "      <td>2006</td>\n",
       "      <td>5.94</td>\n",
       "    </tr>\n",
       "    <tr>\n",
       "      <th>1</th>\n",
       "      <td>2007</td>\n",
       "      <td>1.92</td>\n",
       "    </tr>\n",
       "    <tr>\n",
       "      <th>2</th>\n",
       "      <td>2008</td>\n",
       "      <td>-12.84</td>\n",
       "    </tr>\n",
       "    <tr>\n",
       "      <th>3</th>\n",
       "      <td>2009</td>\n",
       "      <td>10.59</td>\n",
       "    </tr>\n",
       "    <tr>\n",
       "      <th>4</th>\n",
       "      <td>2010</td>\n",
       "      <td>2.83</td>\n",
       "    </tr>\n",
       "    <tr>\n",
       "      <th>5</th>\n",
       "      <td>2011</td>\n",
       "      <td>-0.34</td>\n",
       "    </tr>\n",
       "    <tr>\n",
       "      <th>6</th>\n",
       "      <td>2012</td>\n",
       "      <td>7.16</td>\n",
       "    </tr>\n",
       "    <tr>\n",
       "      <th>7</th>\n",
       "      <td>2013</td>\n",
       "      <td>6.05</td>\n",
       "    </tr>\n",
       "    <tr>\n",
       "      <th>8</th>\n",
       "      <td>2014</td>\n",
       "      <td>7.36</td>\n",
       "    </tr>\n",
       "    <tr>\n",
       "      <th>9</th>\n",
       "      <td>2015</td>\n",
       "      <td>0.86</td>\n",
       "    </tr>\n",
       "    <tr>\n",
       "      <th>10</th>\n",
       "      <td>2016</td>\n",
       "      <td>3.54</td>\n",
       "    </tr>\n",
       "    <tr>\n",
       "      <th>11</th>\n",
       "      <td>2017</td>\n",
       "      <td>7.96</td>\n",
       "    </tr>\n",
       "    <tr>\n",
       "      <th>12</th>\n",
       "      <td>2018</td>\n",
       "      <td>-3.28</td>\n",
       "    </tr>\n",
       "    <tr>\n",
       "      <th>13</th>\n",
       "      <td>2019</td>\n",
       "      <td>11.29</td>\n",
       "    </tr>\n",
       "    <tr>\n",
       "      <th>14</th>\n",
       "      <td>2020</td>\n",
       "      <td>4.09</td>\n",
       "    </tr>\n",
       "    <tr>\n",
       "      <th>15</th>\n",
       "      <td>2021</td>\n",
       "      <td>8.40</td>\n",
       "    </tr>\n",
       "    <tr>\n",
       "      <th>16</th>\n",
       "      <td>2022</td>\n",
       "      <td>-9.58</td>\n",
       "    </tr>\n",
       "    <tr>\n",
       "      <th>17</th>\n",
       "      <td>2023</td>\n",
       "      <td>4.97</td>\n",
       "    </tr>\n",
       "  </tbody>\n",
       "</table>\n",
       "</div>"
      ],
      "text/plain": [
       "    Jahr  Rendite\n",
       "0   2006     5.94\n",
       "1   2007     1.92\n",
       "2   2008   -12.84\n",
       "3   2009    10.59\n",
       "4   2010     2.83\n",
       "5   2011    -0.34\n",
       "6   2012     7.16\n",
       "7   2013     6.05\n",
       "8   2014     7.36\n",
       "9   2015     0.86\n",
       "10  2016     3.54\n",
       "11  2017     7.96\n",
       "12  2018    -3.28\n",
       "13  2019    11.29\n",
       "14  2020     4.09\n",
       "15  2021     8.40\n",
       "16  2022    -9.58\n",
       "17  2023     4.97"
      ]
     },
     "execution_count": 6,
     "metadata": {},
     "output_type": "execute_result"
    }
   ],
   "source": [
    "actual_performance = pd.read_csv('../data/pk_performance.csv', header=0,\n",
    "                                 dtype={'Jahr': int, 'Rendite': float})\n",
    "actual_performance"
   ]
  },
  {
   "cell_type": "markdown",
   "metadata": {},
   "source": [
    "In der Folge wird versucht zu zeigen, was das für die Renten bedeutet.\n",
    "Die Daten der UBS decken den Zeitraum von 2006 bis 2023 ab. Das sind 18\n",
    "Jahre. Damit Daten für die mittlere Restlebenserwartung zur Verfügung\n",
    "stehen, werden die Jahre 2002 bis 2005 mit der durchschnittlichen\n",
    "Rendite gemäss der UBS Datenreihe ergänzt."
   ]
  },
  {
   "cell_type": "code",
   "execution_count": 7,
   "metadata": {},
   "outputs": [
    {
     "name": "stdout",
     "output_type": "stream",
     "text": [
      "Die effektiv erzielte durchschnittliche Rendite gemäss Daten der UBS beträgt 3.16%.\n"
     ]
    }
   ],
   "source": [
    "durchschnittliche_rendite = actual_performance['Rendite'].mean()\n",
    "print(\n",
    "    f'Die effektiv erzielte durchschnittliche Rendite '\n",
    "    f'gemäss Daten der UBS beträgt {durchschnittliche_rendite:.2f}%.'\n",
    "    )"
   ]
  },
  {
   "cell_type": "code",
   "execution_count": 8,
   "metadata": {},
   "outputs": [],
   "source": [
    "pre_years = [[2002, 3.16],\n",
    "             [2003, 3.16],\n",
    "             [2004, 3.16],\n",
    "             [2005, 3.16],]\n",
    "\n",
    "df = pd.DataFrame(pre_years, columns=['Jahr', 'Rendite'])"
   ]
  },
  {
   "cell_type": "code",
   "execution_count": 9,
   "metadata": {},
   "outputs": [
    {
     "name": "stdout",
     "output_type": "stream",
     "text": [
      "   Jahr  Rendite\n",
      "0  2002     3.16\n",
      "1  2003     3.16\n",
      "2  2004     3.16\n",
      "3  2005     3.16\n",
      "4  2006     5.94\n",
      "5  2007     1.92\n"
     ]
    }
   ],
   "source": [
    "extendend_performance = pd.concat([df, actual_performance], ignore_index=True)\n",
    "print(extendend_performance.head(6))"
   ]
  },
  {
   "cell_type": "code",
   "execution_count": 10,
   "metadata": {},
   "outputs": [
    {
     "name": "stdout",
     "output_type": "stream",
     "text": [
      "    Jahr  Verfügbares Kapital\n",
      "16  2018            18.630471\n",
      "17  2019            13.933852\n",
      "18  2020             7.703746\n",
      "19  2021             1.550861\n",
      "20  2022            -5.397712\n",
      "21  2023           -12.465978\n"
     ]
    }
   ],
   "source": [
    "performance = extendend_performance['Rendite'].to_list()\n",
    "\n",
    "available_capital = [100]\n",
    "\n",
    "for i in range(1, len(performance)):\n",
    "        available_capital.append(available_capital[i - 1] * \n",
    "                                 (1 + performance[i]/100) - pension)\n",
    "        \n",
    "\"\"\"\n",
    "Für eine bessere Lesbarkeit wird das Ergebnis in ein DataFrame umgewandelt.\n",
    "\"\"\"\n",
    "    \n",
    "years = extendend_performance['Jahr'].to_list()\n",
    "\n",
    "result = pd.DataFrame({'Jahr': years, 'Verfügbares Kapital': available_capital})\n",
    "\n",
    "print(result.tail(6))"
   ]
  },
  {
   "cell_type": "markdown",
   "metadata": {},
   "source": [
    "Das Resultat der Simulationsrechnung zeigt, dass statt der erfordlichen\n",
    "21 Jahre lediglich deren 20 abgedeckt sind."
   ]
  }
 ],
 "metadata": {
  "kernelspec": {
   "display_name": "Python 3 (ipykernel)",
   "language": "python",
   "name": "python3"
  },
  "language_info": {
   "codemirror_mode": {
    "name": "ipython",
    "version": 3
   },
   "file_extension": ".py",
   "mimetype": "text/x-python",
   "name": "python",
   "nbconvert_exporter": "python",
   "pygments_lexer": "ipython3",
   "version": "3.12.2"
  }
 },
 "nbformat": 4,
 "nbformat_minor": 2
}
