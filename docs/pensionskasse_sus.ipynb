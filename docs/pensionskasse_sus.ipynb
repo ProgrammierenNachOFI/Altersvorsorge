{
 "cells": [
  {
   "cell_type": "markdown",
   "metadata": {},
   "source": [
    "# Die Pensionskasse"
   ]
  },
  {
   "cell_type": "markdown",
   "metadata": {},
   "source": [
    "Die Pensionskasse ist nach dem Kapitaldeckungsverfahren finanziert. Das heisst,\n",
    "jeder Versicherte der Pensionskassen spart ein individuelles Guthaben an,\n",
    "aus dem die Rente finanziert wird.\n",
    "\n",
    "Aktuell (Februar 2024) wird das angesparte Guthaben mit einem gesetzlich\n",
    "festgeschriebenen Umwandlungssatz von 6.8% \n",
    "([Art. 14 Abs. 2 BVG](https://www.fedlex.admin.ch/eli/cc/1983/797_797_797/de#art_14))\n",
    "in eine Rente umgerechnet. Das bedeutet, dass jedes Jahr eine Rente in\n",
    "der Höhe von 6.8% des bei Erreichen des Rentenalters angesparten\n",
    "Kapitals ausbezahlt wird."
   ]
  },
  {
   "cell_type": "markdown",
   "metadata": {},
   "source": [
    "## Wie lange reicht das angesparte Kapital theoretisch?"
   ]
  },
  {
   "cell_type": "markdown",
   "metadata": {},
   "source": [
    "Das scheint eine relativ einfach zu beantwortende Frage zu sein.\n",
    "Es sind 6.8% des angesparten Kapitals zu berechnen. Anschliessend ist\n",
    "dieser Betrag so oft vom angesparten Kapital in Abzug zu bringen, bis\n",
    "nichts mehr übrig ist."
   ]
  },
  {
   "cell_type": "markdown",
   "metadata": {},
   "source": [
    "### Aufgabe\n",
    "\n",
    "Wie oft können 6.8% des bei Erreichen des Rentenalters angesparten\n",
    "Kaptials in Abzug gebracht werden?  \n",
    "Geben Sie das Resultat in Form eines F-Strings aus."
   ]
  },
  {
   "cell_type": "code",
   "execution_count": null,
   "metadata": {},
   "outputs": [],
   "source": [
    "# TODO: setzen Sie hier die Aufgabe in Python um"
   ]
  },
  {
   "cell_type": "markdown",
   "metadata": {},
   "source": [
    "So weit so gut. Aber wie lange sollten die Ersparnisse tatsächlich\n",
    "reichen? Dazu muss auf die statistische Restlebenserwartung bei\n",
    "Erreichen des Rentenalters abgestellt werden. Diese findet sich in den\n",
    "sogenannten *Sterbetafeln*. Diese werden, nach Geschlechtern getrennt,\n",
    "durch das Bundesamt für Statistik zur Verfügung gestellt \n",
    "([Männer](https://www.bfs.admin.ch/bfs/de/home/statistiken/bevoelkerung/geburten-todesfaelle/lebenserwartung.assetdetail.27225580.html),\n",
    "[Frauen](https://www.bfs.admin.ch/bfs/de/home/statistiken/bevoelkerung/geburten-todesfaelle/lebenserwartung.assetdetail.27225585.html)).\n",
    "\n",
    "Gemäss diesen Tabellen haben Männer, welche 2022 65 Jahre alt geworden\n",
    "sind, eine Restlebenserwartung von 19.8 Jahren, Frauen gar eine solche\n",
    "von 22.5 Jahren. Den Männern fehlen nach obiger Berechnung somit Kapital\n",
    "für 4.8 Jahre Rente, den Frauen für 7.5 Jahre."
   ]
  },
  {
   "cell_type": "markdown",
   "metadata": {},
   "source": [
    "## Wie lange reicht das angesparte Kapital praktisch?"
   ]
  },
  {
   "cell_type": "markdown",
   "metadata": {},
   "source": [
    "Das angesparte Kapital wirft auch nach\n",
    "Erreichen des Rentenalters eine Rendite ab. Damit muss die Frage geklärt\n",
    "werden, wie hoch die Verzinsung des angesparten Kapitals sein muss,\n",
    "damit unter Einhaltung des \n",
    "gesetzlichen Umwandlungssatzes bis zum Lebensende eine Rente ausbezahlt\n",
    "werden kann."
   ]
  },
  {
   "cell_type": "markdown",
   "metadata": {},
   "source": [
    "### Aufgabe\n",
    "\n",
    "Wie hoch muss die Verzinsung des Restkapitals sein, damit es im\n",
    "Durchschnitt für eine Rente von 6.8% über die Dauer von 22 Jahren\n",
    "reicht?  \n",
    "Beschreiben Sie Ihren Lösungsansatz, bevor Sie zu programmieren\n",
    "beginnen.  \n",
    "Geben Sie das Resultat in Form eines F-Strings aus."
   ]
  },
  {
   "cell_type": "markdown",
   "metadata": {},
   "source": [
    "*Hier bitte Ihre Beschreibung formulieren.*"
   ]
  },
  {
   "cell_type": "code",
   "execution_count": null,
   "metadata": {},
   "outputs": [],
   "source": [
    "# TODO: setzen Sie hier die Aufgabe in Python um"
   ]
  },
  {
   "cell_type": "markdown",
   "metadata": {},
   "source": [
    "Damit ist die Frage beantwortet, wie hoch die Verzinsung des angesparten\n",
    "Kaptials sein muss, um im Durchschnitt eine lebenslange Rente\n",
    "ausschütten zu können.\n",
    "\n",
    "Nicht geklärt ist allerdings die Frage, ob diese Rendite in der\n",
    "Vergangenheit tatsächlich erreicht wurde.\n"
   ]
  },
  {
   "cell_type": "markdown",
   "metadata": {},
   "source": [
    "## Modellrechnung mit den effektiv erzielten Renditen"
   ]
  },
  {
   "cell_type": "markdown",
   "metadata": {},
   "source": [
    "Um die vorhandenen Daten für die Modellrechnung\n",
    "importieren zu können, wird in der nächsten Zelle die `pandas` Library\n",
    "importiert."
   ]
  },
  {
   "cell_type": "code",
   "execution_count": null,
   "metadata": {},
   "outputs": [],
   "source": [
    "import pandas as pd"
   ]
  },
  {
   "cell_type": "markdown",
   "metadata": {},
   "source": [
    "Gemäss einer \n",
    "[Zusammenstellung der UBS (aufgerufen im Februar\n",
    "2024)](https://www.ubs.com/microsites/focus/de/markets/2022/pension-fund-performance.html)\n",
    "wiesen die Pensionskassen in den Jahren von 2006 bis 2023 im Mittel die\n",
    "folgenden Renditen auf (vgl. die folgende Aufgabe):"
   ]
  },
  {
   "cell_type": "markdown",
   "metadata": {},
   "source": [
    "### Aufgabe\n",
    "\n",
    "Lesen Sie die Datei `pk_performance.csv` im Ordner data als Panda\n",
    "DataFrame ein und geben diesen als String aus."
   ]
  },
  {
   "cell_type": "code",
   "execution_count": null,
   "metadata": {},
   "outputs": [],
   "source": [
    "# TODO: lesen Sie die Daten zur PK Perfomrance ein"
   ]
  },
  {
   "cell_type": "markdown",
   "metadata": {},
   "source": [
    "In der Folge wird versucht zu zeigen, was das für die Renten bedeutet.\n",
    "Die Daten der UBS decken den Zeitraum von 2006 bis 2023 ab. Das sind 18\n",
    "Jahre. Damit Daten für die mittlere Restlebenserwartung zur Verfügung\n",
    "stehen, werden die Jahre 2002 bis 2005 mit der durchschnittlichen\n",
    "Rendite gemäss der UBS Datenreihe ergänzt."
   ]
  },
  {
   "cell_type": "markdown",
   "metadata": {},
   "source": [
    "### Aufgabe\n",
    "\n",
    "Berechnen Sie aus den Daten die mittlere Rendite der Pensionskassen und\n",
    "geben Sie das Resultat als F-String aus."
   ]
  },
  {
   "cell_type": "code",
   "execution_count": null,
   "metadata": {},
   "outputs": [],
   "source": [
    "# TODO: berechnen Sie mit Python die mittlere Rendite"
   ]
  },
  {
   "cell_type": "markdown",
   "metadata": {},
   "source": [
    "### Aufgabe\n",
    "\n",
    "Ergänzen Sie die eingelesenen Daten um die Jahre 2002 - 2005 mit der\n",
    "mittleren Rendite."
   ]
  },
  {
   "cell_type": "code",
   "execution_count": null,
   "metadata": {},
   "outputs": [],
   "source": [
    "# TODO: setzen Sie hier die Aufgabe in Python um"
   ]
  },
  {
   "cell_type": "markdown",
   "metadata": {},
   "source": [
    "Um zu zeigen, dass die Jahre korrekt in die Datenreihe eingefügt sind,\n",
    "werden die ersten 6 Zeilen des Dataframe angezeigt."
   ]
  },
  {
   "cell_type": "code",
   "execution_count": null,
   "metadata": {},
   "outputs": [],
   "source": [
    "# TODO: setzen Sie hier die Aufgabe in Python um"
   ]
  },
  {
   "cell_type": "markdown",
   "metadata": {},
   "source": [
    "### Aufgabe\n",
    "\n",
    "Zeigen Sie, was geschieht, wenn das angesparte Kapital mit 6.8% in eine\n",
    "Rente umgewandelt wird und mit der effektiven Rendite verzinst wird.  \n",
    "Halten Sie Ihre Beobachtung schriftlich fest."
   ]
  },
  {
   "cell_type": "markdown",
   "metadata": {},
   "source": [
    "Als nächstes werden die effektiv erzielten Renditen auf das angesparte\n",
    "Kapital zur Anwendung gebracht."
   ]
  },
  {
   "cell_type": "code",
   "execution_count": null,
   "metadata": {},
   "outputs": [],
   "source": [
    "# TODO: setzen Sie hier die Aufgabe in Python um"
   ]
  },
  {
   "cell_type": "markdown",
   "metadata": {},
   "source": [
    "Das Resultat der Simulationsrechnung zeigt, dass statt der erfordlichen\n",
    "21 Jahre lediglich deren 19 abgedeckt sind (**Achtung**: Der Index\n",
    "beginnt mit 0!)."
   ]
  }
 ],
 "metadata": {
  "kernelspec": {
   "display_name": "Python 3 (ipykernel)",
   "language": "python",
   "name": "python3"
  },
  "language_info": {
   "codemirror_mode": {
    "name": "ipython",
    "version": 3
   },
   "file_extension": ".py",
   "mimetype": "text/x-python",
   "name": "python",
   "nbconvert_exporter": "python",
   "pygments_lexer": "ipython3",
   "version": "3.12.2"
  }
 },
 "nbformat": 4,
 "nbformat_minor": 2
}
